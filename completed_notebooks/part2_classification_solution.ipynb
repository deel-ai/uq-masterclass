{
 "cells": [
  {
   "cell_type": "markdown",
   "id": "cba4c9c2",
   "metadata": {
    "id": "cba4c9c2"
   },
   "source": [
    "# 📊 Part II: Conformal Classification\n",
    "\n",
    "The objective is to use conformal prediction to assess the uncertainty associated with a predictive classifier. We will assume that this classifier is already deployed in production from PUNCC's perspective. Our task is to perform post-hoc calibration to enable the generation of reliable prediction intervals.\n",
    "\n",
    "<div align=center>\n",
    "<img src=\"assets/classification_demo.svg\" width=\"800\"> </img>\n",
    "</div>\n",
    "\n",
    "**Links**\n",
    "- [<img src=\"https://github.githubassets.com/images/icons/emoji/octocat.png\" width=20> Github](https://github.com/deel-ai/puncc)\n",
    "- [📘 Documentation](https://deel-ai.github.io/puncc/index.html)"
   ]
  },
  {
   "cell_type": "markdown",
   "id": "85e8c1e0",
   "metadata": {},
   "source": [
    "### ⚙️ Setup  <a class=\"anchor\" id=\"cr-setup\"></a>\n",
    "\n",
    "🐾 Ensure we have puncc installed. You can install it if needed using pip:"
   ]
  },
  {
   "cell_type": "code",
   "execution_count": 1,
   "id": "cbc706a4",
   "metadata": {},
   "outputs": [
    {
     "name": "stdout",
     "output_type": "stream",
     "text": [
      "Requirement already satisfied: puncc in c:\\users\\mouhcine.mendil\\documents\\projets\\puncc\\puncc-dev-env\\lib\\site-packages (0.8.0)\n",
      "Requirement already satisfied: joblib in c:\\users\\mouhcine.mendil\\documents\\projets\\puncc\\puncc-dev-env\\lib\\site-packages (from puncc) (1.3.1)\n",
      "Requirement already satisfied: numpy in c:\\users\\mouhcine.mendil\\documents\\projets\\puncc\\puncc-dev-env\\lib\\site-packages (from puncc) (1.24.3)\n",
      "Requirement already satisfied: scikit-learn in c:\\users\\mouhcine.mendil\\documents\\projets\\puncc\\puncc-dev-env\\lib\\site-packages (from puncc) (1.3.0)\n",
      "Requirement already satisfied: matplotlib in c:\\users\\mouhcine.mendil\\documents\\projets\\puncc\\puncc-dev-env\\lib\\site-packages (from puncc) (3.7.2)\n",
      "Requirement already satisfied: tqdm in c:\\users\\mouhcine.mendil\\documents\\projets\\puncc\\puncc-dev-env\\lib\\site-packages (from puncc) (4.65.0)\n",
      "Requirement already satisfied: pandas in c:\\users\\mouhcine.mendil\\documents\\projets\\puncc\\puncc-dev-env\\lib\\site-packages (from puncc) (2.0.3)\n",
      "Requirement already satisfied: python-dateutil>=2.7 in c:\\users\\mouhcine.mendil\\documents\\projets\\puncc\\puncc-dev-env\\lib\\site-packages (from matplotlib->puncc) (2.8.2)\n",
      "Requirement already satisfied: pyparsing<3.1,>=2.3.1 in c:\\users\\mouhcine.mendil\\documents\\projets\\puncc\\puncc-dev-env\\lib\\site-packages (from matplotlib->puncc) (3.0.9)\n",
      "Requirement already satisfied: pillow>=6.2.0 in c:\\users\\mouhcine.mendil\\documents\\projets\\puncc\\puncc-dev-env\\lib\\site-packages (from matplotlib->puncc) (10.0.0)\n",
      "Requirement already satisfied: cycler>=0.10 in c:\\users\\mouhcine.mendil\\documents\\projets\\puncc\\puncc-dev-env\\lib\\site-packages (from matplotlib->puncc) (0.11.0)\n",
      "Requirement already satisfied: fonttools>=4.22.0 in c:\\users\\mouhcine.mendil\\documents\\projets\\puncc\\puncc-dev-env\\lib\\site-packages (from matplotlib->puncc) (4.40.0)\n",
      "Requirement already satisfied: importlib-resources>=3.2.0 in c:\\users\\mouhcine.mendil\\documents\\projets\\puncc\\puncc-dev-env\\lib\\site-packages (from matplotlib->puncc) (6.0.0)\n",
      "Requirement already satisfied: kiwisolver>=1.0.1 in c:\\users\\mouhcine.mendil\\documents\\projets\\puncc\\puncc-dev-env\\lib\\site-packages (from matplotlib->puncc) (1.4.4)\n",
      "Requirement already satisfied: packaging>=20.0 in c:\\users\\mouhcine.mendil\\documents\\projets\\puncc\\puncc-dev-env\\lib\\site-packages (from matplotlib->puncc) (23.1)\n",
      "Requirement already satisfied: contourpy>=1.0.1 in c:\\users\\mouhcine.mendil\\documents\\projets\\puncc\\puncc-dev-env\\lib\\site-packages (from matplotlib->puncc) (1.1.0)\n",
      "Requirement already satisfied: zipp>=3.1.0 in c:\\users\\mouhcine.mendil\\documents\\projets\\puncc\\puncc-dev-env\\lib\\site-packages (from importlib-resources>=3.2.0->matplotlib->puncc) (3.16.0)\n",
      "Requirement already satisfied: six>=1.5 in c:\\users\\mouhcine.mendil\\documents\\projets\\puncc\\puncc-dev-env\\lib\\site-packages (from python-dateutil>=2.7->matplotlib->puncc) (1.16.0)\n",
      "Requirement already satisfied: tzdata>=2022.1 in c:\\users\\mouhcine.mendil\\documents\\projets\\puncc\\puncc-dev-env\\lib\\site-packages (from pandas->puncc) (2023.3)\n",
      "Requirement already satisfied: pytz>=2020.1 in c:\\users\\mouhcine.mendil\\documents\\projets\\puncc\\puncc-dev-env\\lib\\site-packages (from pandas->puncc) (2023.3)\n",
      "Requirement already satisfied: threadpoolctl>=2.0.0 in c:\\users\\mouhcine.mendil\\documents\\projets\\puncc\\puncc-dev-env\\lib\\site-packages (from scikit-learn->puncc) (3.1.0)\n",
      "Requirement already satisfied: scipy>=1.5.0 in c:\\users\\mouhcine.mendil\\documents\\projets\\puncc\\puncc-dev-env\\lib\\site-packages (from scikit-learn->puncc) (1.11.1)\n",
      "Requirement already satisfied: colorama in c:\\users\\mouhcine.mendil\\documents\\projets\\puncc\\puncc-dev-env\\lib\\site-packages (from tqdm->puncc) (0.4.6)\n"
     ]
    },
    {
     "name": "stderr",
     "output_type": "stream",
     "text": [
      "WARNING: You are using pip version 21.2.3; however, version 24.3.1 is available.\n",
      "You should consider upgrading via the 'C:\\Users\\mouhcine.mendil\\Documents\\Projets\\puncc\\puncc-dev-env\\Scripts\\python.exe -m pip install --upgrade pip' command.\n"
     ]
    }
   ],
   "source": [
    "!pip install puncc"
   ]
  },
  {
   "cell_type": "markdown",
   "id": "d757e5ca",
   "metadata": {},
   "source": [
    "We import some modules:"
   ]
  },
  {
   "cell_type": "code",
   "execution_count": 2,
   "id": "b29028bd",
   "metadata": {},
   "outputs": [],
   "source": [
    "import numpy as np\n",
    "import warnings\n",
    "import matplotlib.pyplot as plt\n",
    "import seaborn as sns\n",
    "\n",
    "import tensorflow as tf\n",
    "\n",
    "# Set seaborn theme\n",
    "sns.set_theme()\n",
    "\n",
    "# Ignore warnings\n",
    "warnings.filterwarnings(\"ignore\")\n",
    "\n",
    "# Set random seed for reproducibility\n",
    "tf.random.set_seed(0)\n",
    "tf.keras.utils.set_random_seed(0)"
   ]
  },
  {
   "cell_type": "markdown",
   "id": "30047277",
   "metadata": {
    "id": "30047277"
   },
   "source": [
    "### 💾 MNIST Dataset <a class=\"anchor\" id=\"cc-data\"></a>\n",
    "\n",
    "MNIST dataset contains a large number of $28\\times28$ digit images to which are associated digit labels. As the data generating process is considered i.i.d (check [this post](https://newsletter.altdeep.ai/p/the-story-of-mnist-and-the-perils)), conformal prediction is applicable 👏.\n",
    "\n",
    "We have two available data subsets:\n",
    "\n",
    "* Calibration subset ${\\cal D_{calib}}$ on which nonconformity scores are computed.\n",
    "* New data subset ${\\cal D_{new}}$ on which the prediction set are estimated."
   ]
  },
  {
   "cell_type": "code",
   "execution_count": 3,
   "id": "2d5c87be",
   "metadata": {
    "colab": {
     "base_uri": "https://localhost:8080/"
    },
    "id": "2d5c87be",
    "outputId": "c65ff91e-3bd6-42bc-cf45-7207c2b80f6f"
   },
   "outputs": [
    {
     "data": {
      "image/png": "[encoded data removed]",
      "text/plain": [
       "<Figure size 500x500 with 4 Axes>"
      ]
     },
     "metadata": {},
     "output_type": "display_data"
    }
   ],
   "source": [
    "# Load MNIST Database\n",
    "(X_train_mnist, y_train_mnist), (X_new_mnist, y_new_mnist) = (\n",
    "    tf.keras.datasets.mnist.load_data()\n",
    ")\n",
    "\n",
    "# Preprocessing: reshaping and standardization\n",
    "X_train_mnist = X_train_mnist.reshape((len(X_train_mnist), 28, 28))\n",
    "X_train_mnist = X_train_mnist.astype(\"float32\") / 255\n",
    "X_new_mnist = X_new_mnist.reshape((len(X_new_mnist), 28, 28))\n",
    "X_new_mnist = X_new_mnist.astype(\"float32\") / 255\n",
    "\n",
    "# Split fit and calib datasets\n",
    "X_fit_mnist = X_train_mnist[:50000]\n",
    "y_fit_mnist = y_train_mnist[:50000]\n",
    "\n",
    "# Calibration data\n",
    "X_calib_mnist = X_train_mnist[50000:]\n",
    "y_calib_mnist = y_train_mnist[50000:]\n",
    "\n",
    "# One hot encoding of classes\n",
    "y_fit_cat = tf.keras.utils.to_categorical(y_fit_mnist)\n",
    "\n",
    "fig, ax = plt.subplots(nrows=2, ncols=2, figsize=(5, 5))\n",
    "ax = ax.flatten()\n",
    "\n",
    "for i in range(4):\n",
    "    ax[i].imshow(1 - X_fit_mnist[i], cmap=\"gray\")\n",
    "    ax[i].set_xticks([])\n",
    "    ax[i].set_yticks([])"
   ]
  },
  {
   "cell_type": "markdown",
   "id": "027c4d98",
   "metadata": {
    "id": "027c4d98"
   },
   "source": [
    "### 🔮 Prediction model <a class=\"anchor\" id=\"cc-pm\"></a>\n",
    "\n",
    "We will consider a convolutional neural network (convnet) defined below. The model will be trained prior to any conformalization and will be assumed to be in production from this point on."
   ]
  },
  {
   "cell_type": "code",
   "execution_count": 4,
   "id": "739e5a49",
   "metadata": {
    "id": "739e5a49"
   },
   "outputs": [
    {
     "name": "stdout",
     "output_type": "stream",
     "text": [
      "Epoch 1/2\n",
      "176/176 [==============================] - 9s 48ms/step - loss: 0.5743 - accuracy: 0.8408 - val_loss: 0.2544 - val_accuracy: 0.9256\n",
      "Epoch 2/2\n",
      "176/176 [==============================] - 9s 54ms/step - loss: 0.1922 - accuracy: 0.9420 - val_loss: 0.1579 - val_accuracy: 0.9520\n"
     ]
    }
   ],
   "source": [
    "# Classification model: convnet composed of two convolution/pooling layers\n",
    "# and a dense output layer\n",
    "convnet_model = tf.keras.models.Sequential(\n",
    "    [\n",
    "        tf.keras.Input(shape=(28, 28, 1)),\n",
    "        tf.keras.layers.Conv2D(16, kernel_size=(3, 3), activation=\"relu\"),\n",
    "        tf.keras.layers.MaxPooling2D(pool_size=(2, 2)),\n",
    "        tf.keras.layers.Conv2D(32, kernel_size=(3, 3), activation=\"relu\"),\n",
    "        tf.keras.layers.MaxPooling2D(pool_size=(2, 2)),\n",
    "        tf.keras.layers.Flatten(),\n",
    "        tf.keras.layers.Dense(10, activation=\"softmax\"),\n",
    "    ]\n",
    ")\n",
    "\n",
    "convnet_model.compile(\n",
    "    optimizer=\"rmsprop\", loss=\"categorical_crossentropy\", metrics=[\"accuracy\"]\n",
    ")\n",
    "history = convnet_model.fit(\n",
    "    X_fit_mnist,\n",
    "    y_fit_cat,\n",
    "    epochs=2,\n",
    "    batch_size=256,\n",
    "    validation_split=0.1,\n",
    "    verbose=1,\n",
    ")"
   ]
  },
  {
   "cell_type": "markdown",
   "id": "f3127fb0",
   "metadata": {},
   "source": [
    "### ⚖️ Naive Approach <a class=\"anchor\" id=\"cc-calib\"></a>\n",
    "\n",
    "Our convnet has softmax function applied to logit outputs, to normalize them and convert them into probabilities. One may attempt to use logit scores to meet requirements on error rate $\\le \\alpha = 0.05$.\n",
    "\n",
    "<div align=center>\n",
    "<img src=\"assets/naive_classification.svg\" width=\"600\"> </img>\n",
    "</div>\n",
    "\n",
    "These logits can be used to determine the class with the highest score, but they do not necessarily represent well-calibrated probabilities.\n",
    "\n",
    "\n",
    "<div align=center>\n",
    "<img src=\"assets/fooling_dnns.png\" width=\"800\"> </img>\n",
    "</div>\n",
    "\n",
    "We can't trust logit scores to reliably estimate uncertainty. "
   ]
  },
  {
   "cell_type": "markdown",
   "id": "f0fdfb0d",
   "metadata": {
    "id": "f0fdfb0d"
   },
   "source": [
    "### ⚙️ Conformal Prediction <a class=\"anchor\" id=\"cc-cp\"></a>\n",
    "\n",
    "The goal is provide a reliable uncertainty evaluation through conformal prediction associated with our pretrained convnet classifier.\n",
    "\n",
    "The APS procedure is the chosen method.\n",
    "\n",
    "<div align=center>\n",
    "<img src=\"assets/workflow_classification.svg\" width=\"800\"> </img>\n",
    "</div>"
   ]
  },
  {
   "cell_type": "markdown",
   "id": "fbe6c5e0",
   "metadata": {},
   "source": [
    "#### 1. Instantiation"
   ]
  },
  {
   "cell_type": "code",
   "execution_count": 5,
   "id": "b73525e9",
   "metadata": {},
   "outputs": [],
   "source": [
    "from deel.puncc.classification import APS\n",
    "\n",
    "# Instanciate the APS wrapper around the convnet predictor.\n",
    "# The `train` argument is set to False as the model is already trained\n",
    "\n",
    "convnet_cp = APS(convnet_model, train=False)"
   ]
  },
  {
   "cell_type": "markdown",
   "id": "e7cf5fba",
   "metadata": {},
   "source": [
    "#### 2. Calibration"
   ]
  },
  {
   "cell_type": "code",
   "execution_count": 6,
   "id": "815727db",
   "metadata": {},
   "outputs": [
    {
     "name": "stdout",
     "output_type": "stream",
     "text": [
      "313/313 [==============================] - 1s 4ms/step\n"
     ]
    }
   ],
   "source": [
    "# Compute the nonconformity scores on the calibration dataset\n",
    "convnet_cp.fit(X_calib=X_calib_mnist, y_calib=y_calib_mnist)"
   ]
  },
  {
   "cell_type": "markdown",
   "id": "8291b16a",
   "metadata": {},
   "source": [
    "#### 3. Conformal Inference"
   ]
  },
  {
   "cell_type": "code",
   "execution_count": 7,
   "id": "8b29f0b1",
   "metadata": {},
   "outputs": [
    {
     "name": "stdout",
     "output_type": "stream",
     "text": [
      "313/313 [==============================] - 1s 3ms/step\n"
     ]
    }
   ],
   "source": [
    "# Use chooses the coverage target 1-alpha = 95%\n",
    "alpha = 0.05\n",
    "\n",
    "# The `predict` returns the output of the convnet model `y_pred` and\n",
    "# the calibrated prediction set `set_pred`.\n",
    "y_pred, set_pred = convnet_cp.predict(X_new_mnist, alpha=alpha)"
   ]
  },
  {
   "cell_type": "markdown",
   "id": "ae842f7d",
   "metadata": {
    "id": "ae842f7d"
   },
   "source": [
    "Let's visualize an example of point prediction and set prediction."
   ]
  },
  {
   "cell_type": "code",
   "execution_count": 8,
   "id": "3db6e674",
   "metadata": {
    "colab": {
     "base_uri": "https://localhost:8080/",
     "height": 449
    },
    "id": "3db6e674",
    "outputId": "5f2ff029-6027-47b7-e0a2-373d362282dd"
   },
   "outputs": [
    {
     "data": {
      "image/png": "[encoded data removed]",
      "text/plain": [
       "<Figure size 300x300 with 1 Axes>"
      ]
     },
     "metadata": {},
     "output_type": "display_data"
    }
   ],
   "source": [
    "sample = 18\n",
    "\n",
    "# sort y_pred[sample] in reversed order\n",
    "ranked_pred = y_pred[sample].argsort()[::-1]\n",
    "\n",
    "# Plot results\n",
    "fig = plt.figure(figsize=(3, 3))\n",
    "plt.imshow(X_new_mnist[sample].reshape((28, 28)), cmap=\"gray\")\n",
    "_ = plt.title(\n",
    "    f\"Point prediction: {np.argmax(y_pred[sample])} \\n \"\n",
    "    + f\"Prediction set: {set_pred[sample]} \\n True label: {y_new_mnist[sample]}\"\n",
    ")\n",
    "\n",
    "_ = plt.xticks([])\n",
    "_ = plt.yticks([])"
   ]
  },
  {
   "cell_type": "markdown",
   "id": "6781fcee",
   "metadata": {
    "id": "6781fcee"
   },
   "source": [
    "Puncc provides several metrics in `deel.puncc.metrics` to evaluate the conformalization procedure. Below, we compute the average empirical coverage and the average empirical size of the prediction sets on the new examples:"
   ]
  },
  {
   "cell_type": "code",
   "execution_count": 9,
   "id": "89dbd478",
   "metadata": {
    "colab": {
     "base_uri": "https://localhost:8080/"
    },
    "id": "89dbd478",
    "outputId": "29c0d131-95fb-44ee-87d8-1bfd63b76fa1"
   },
   "outputs": [
    {
     "name": "stdout",
     "output_type": "stream",
     "text": [
      "Empirical coverage : 0.95\n",
      "Average set size : 1.18\n"
     ]
    }
   ],
   "source": [
    "from deel.puncc import metrics\n",
    "\n",
    "mean_coverage = metrics.classification_mean_coverage(y_new_mnist, set_pred)\n",
    "mean_size = metrics.classification_mean_size(set_pred)\n",
    "\n",
    "print(f\"Empirical coverage : {mean_coverage:.2f}\")\n",
    "print(f\"Average set size : {mean_size:.2f}\")"
   ]
  },
  {
   "cell_type": "markdown",
   "id": "88129c4f",
   "metadata": {},
   "source": [
    "We can check the calibrated threshold selected by the algorithm (quantile of nonconformity scores) and conclude. "
   ]
  },
  {
   "cell_type": "code",
   "execution_count": 10,
   "id": "5641b7f4",
   "metadata": {},
   "outputs": [],
   "source": [
    "# Get nonconformity scores\n",
    "nonconf_scores = convnet_cp.conformal_predictor.get_nonconformity_scores()[0]\n",
    "\n",
    "# Size of the calibration set\n",
    "n = len(nonconf_scores)\n",
    "\n",
    "# Compute the calibrated treshold\n",
    "calibrated_treshold = np.quantile(\n",
    "    nonconf_scores, (1 - alpha) * (n + 1) / n, method=\"inverted_cdf\"\n",
    ")"
   ]
  },
  {
   "cell_type": "code",
   "execution_count": 11,
   "id": "3da9ef9e",
   "metadata": {},
   "outputs": [
    {
     "name": "stdout",
     "output_type": "stream",
     "text": [
      "Uncalibrated treshold : 0.95\n",
      "Calibrated treshold : 0.94\n"
     ]
    }
   ],
   "source": [
    "print(f\"Uncalibrated treshold : {1-alpha:.2f}\")\n",
    "print(f\"Calibrated treshold : {calibrated_treshold:.2f}\")"
   ]
  }
 ],
 "metadata": {
  "colab": {
   "provenance": []
  },
  "kernelspec": {
   "display_name": "puncc-dev-env",
   "language": "python",
   "name": "python3"
  },
  "language_info": {
   "codemirror_mode": {
    "name": "ipython",
    "version": 3
   },
   "file_extension": ".py",
   "mimetype": "text/x-python",
   "name": "python",
   "nbconvert_exporter": "python",
   "pygments_lexer": "ipython3",
   "version": "3.9.7"
  },
  "latex_envs": {
   "LaTeX_envs_menu_present": true,
   "autoclose": false,
   "autocomplete": true,
   "bibliofile": "biblio.bib",
   "cite_by": "apalike",
   "current_citInitial": 1,
   "eqLabelWithNumbers": true,
   "eqNumInitial": 1,
   "hotkeys": {
    "equation": "Ctrl-E",
    "itemize": "Ctrl-I"
   },
   "labels_anchors": false,
   "latex_user_defs": false,
   "report_style_numbering": false,
   "user_envs_cfg": false
  }
 },
 "nbformat": 4,
 "nbformat_minor": 5
}
